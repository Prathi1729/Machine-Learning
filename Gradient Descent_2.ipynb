{
 "cells": [
  {
   "cell_type": "code",
   "execution_count": 1,
   "id": "c5d7468f",
   "metadata": {},
   "outputs": [],
   "source": [
    "import numpy as np\n",
    "import pandas as pd\n",
    "\n",
    "import matplotlib.pyplot as plt\n",
    "%matplotlib inline"
   ]
  },
  {
   "cell_type": "code",
   "execution_count": 2,
   "id": "deb85671",
   "metadata": {},
   "outputs": [],
   "source": [
    "data=pd.read_csv(\"salary.csv\")"
   ]
  },
  {
   "cell_type": "code",
   "execution_count": 3,
   "id": "cbfeef2e",
   "metadata": {},
   "outputs": [
    {
     "data": {
      "text/html": [
       "<div>\n",
       "<style scoped>\n",
       "    .dataframe tbody tr th:only-of-type {\n",
       "        vertical-align: middle;\n",
       "    }\n",
       "\n",
       "    .dataframe tbody tr th {\n",
       "        vertical-align: top;\n",
       "    }\n",
       "\n",
       "    .dataframe thead th {\n",
       "        text-align: right;\n",
       "    }\n",
       "</style>\n",
       "<table border=\"1\" class=\"dataframe\">\n",
       "  <thead>\n",
       "    <tr style=\"text-align: right;\">\n",
       "      <th></th>\n",
       "      <th>YearsExperience</th>\n",
       "      <th>Salary</th>\n",
       "    </tr>\n",
       "  </thead>\n",
       "  <tbody>\n",
       "    <tr>\n",
       "      <th>0</th>\n",
       "      <td>1.1</td>\n",
       "      <td>39343</td>\n",
       "    </tr>\n",
       "    <tr>\n",
       "      <th>1</th>\n",
       "      <td>1.5</td>\n",
       "      <td>37731</td>\n",
       "    </tr>\n",
       "    <tr>\n",
       "      <th>2</th>\n",
       "      <td>2.0</td>\n",
       "      <td>43525</td>\n",
       "    </tr>\n",
       "    <tr>\n",
       "      <th>3</th>\n",
       "      <td>2.9</td>\n",
       "      <td>56642</td>\n",
       "    </tr>\n",
       "    <tr>\n",
       "      <th>4</th>\n",
       "      <td>3.0</td>\n",
       "      <td>60150</td>\n",
       "    </tr>\n",
       "  </tbody>\n",
       "</table>\n",
       "</div>"
      ],
      "text/plain": [
       "   YearsExperience  Salary\n",
       "0              1.1   39343\n",
       "1              1.5   37731\n",
       "2              2.0   43525\n",
       "3              2.9   56642\n",
       "4              3.0   60150"
      ]
     },
     "execution_count": 3,
     "metadata": {},
     "output_type": "execute_result"
    }
   ],
   "source": [
    "data.head()"
   ]
  },
  {
   "cell_type": "code",
   "execution_count": 4,
   "id": "81010157",
   "metadata": {},
   "outputs": [
    {
     "data": {
      "text/plain": [
       "array([ 1.1,  1.5,  2. ,  2.9,  3. ,  3.2,  3.9,  4. ,  4.5,  5.9,  6. ,\n",
       "        6.8,  7.9,  8.7,  9. , 10.5])"
      ]
     },
     "execution_count": 4,
     "metadata": {},
     "output_type": "execute_result"
    }
   ],
   "source": [
    "X=np.array(data['YearsExperience'])\n",
    "X"
   ]
  },
  {
   "cell_type": "code",
   "execution_count": 5,
   "id": "466119ee",
   "metadata": {},
   "outputs": [
    {
     "data": {
      "text/plain": [
       "array([ 39343,  37731,  43525,  56642,  60150,  54445,  63218,  56957,\n",
       "        61111,  81363,  93940,  91738, 101302, 109431, 105582, 121872],\n",
       "      dtype=int64)"
      ]
     },
     "execution_count": 5,
     "metadata": {},
     "output_type": "execute_result"
    }
   ],
   "source": [
    "Y=np.array(data['Salary'])\n",
    "Y"
   ]
  },
  {
   "cell_type": "code",
   "execution_count": 15,
   "id": "6690942e",
   "metadata": {},
   "outputs": [],
   "source": [
    "def cost(m,c): \n",
    "    \n",
    "    total_cost=0\n",
    "    for i in range(0,len(data)):\n",
    "        \n",
    "        total_cost+=(Y[i]-((m*X[i]+c)))**2 \n",
    "        \n",
    "    total_cost=1/len(data)*total_cost\n",
    "    return total_cost #19.9\n",
    "        "
   ]
  },
  {
   "cell_type": "code",
   "execution_count": 16,
   "id": "a3ff9aa9",
   "metadata": {},
   "outputs": [],
   "source": [
    "def grad_val(m,c,lr): #0,0,0.0001\n",
    "    \n",
    "    gradient_m=0 \n",
    "    gradient_c=0 \n",
    "    n=len(data)\n",
    "    for i in range(0,len(data)):\n",
    "        gradient_m+=(-2/n)*(X[i])*(Y[i]-m*X[i]+c)\n",
    "        \n",
    "        gradient_c+=(-2/n)*(Y[i]-m*X[i]+c)\n",
    "        \n",
    "    new_m=m-lr*gradient_m  #10\n",
    "    new_c=c-lr*gradient_c #20\n",
    "    \n",
    "    return new_m,new_c #10,20\n"
   ]
  },
  {
   "cell_type": "code",
   "execution_count": 19,
   "id": "ee0b2341",
   "metadata": {},
   "outputs": [],
   "source": [
    "def stck(initial_m,initial_c,learning_rate,num_itr):\n",
    "    \n",
    "    costs=[] \n",
    "    \n",
    "    progress_m=[]\n",
    "    progress_c=[]\n",
    "    \n",
    "    lr=learning_rate\n",
    "    \n",
    "    m=initial_m #m=0\n",
    "    c=initial_c #c=0\n",
    "    \n",
    "    for i in range(0,num_itr):\n",
    "        costs.append(cost(m,c)) #19.9\n",
    "        \n",
    "        m,c=grad_val(m,c,lr)  #10,20\n",
    "        progress_m.append(m) #10\n",
    "        progress_c.append(c) #20\n",
    "        \n",
    "    print('Costs\\n',costs)\n",
    "    print('m value\\n',progress_m)\n",
    "    print('c Values\\n',progress_c)\n",
    "    \n",
    "    plt.plot(costs)\n",
    "    plt.xlabel('No of iteration')\n",
    "    plt.ylabel('Costs')\n",
    "    plt.title('Cost per iteration')\n",
    "    plt.show()\n",
    "    "
   ]
  },
  {
   "cell_type": "code",
   "execution_count": 20,
   "id": "5ee8d1a8",
   "metadata": {},
   "outputs": [
    {
     "name": "stdout",
     "output_type": "stream",
     "text": [
      "Costs\n",
      " [73646.875, -202539.1527228884, -1023950.4828608651, -2379988.615594738, -4260215.420659547, -6654350.908265379, -9552271.029903837, -12944005.508646125, -16819735.69854385, -21169792.472748764]\n",
      "m value\n",
      " [88.81208625000001, 177.04739036036045, 264.70966708321106, 351.80264672831765, 438.33003532219516, 524.2955147661844, 609.7027429935005, 694.5553541252582, 778.8569586254819, 862.6111434551068]\n",
      "c Values\n",
      " [14.729375000000001, 29.37188465277969, 43.92809485620833, 58.398567824341676, 72.78386211140254, 87.08453263560526, 101.30113070282508, 115.43420403011346, 129.4842967690603, 143.4519495290041]\n"
     ]
    },
    {
     "data": {
      "image/png": "[encoded data removed]",
      "text/plain": [
       "<Figure size 432x288 with 1 Axes>"
      ]
     },
     "metadata": {
      "needs_background": "light"
     },
     "output_type": "display_data"
    }
   ],
   "source": [
    "initial_m=0\n",
    "initial_c=0\n",
    "learning_rate=0.0001\n",
    "num_itr=200\n",
    "\n",
    "stck(initial_m,initial_c,learning_rate,num_itr)"
   ]
  },
  {
   "cell_type": "code",
   "execution_count": null,
   "id": "754f54fc",
   "metadata": {},
   "outputs": [],
   "source": []
  },
  {
   "cell_type": "code",
   "execution_count": null,
   "id": "8199415a",
   "metadata": {},
   "outputs": [],
   "source": []
  }
 ],
 "metadata": {
  "kernelspec": {
   "display_name": "Python 3 (ipykernel)",
   "language": "python",
   "name": "python3"
  },
  "language_info": {
   "codemirror_mode": {
    "name": "ipython",
    "version": 3
   },
   "file_extension": ".py",
   "mimetype": "text/x-python",
   "name": "python",
   "nbconvert_exporter": "python",
   "pygments_lexer": "ipython3",
   "version": "3.9.12"
  }
 },
 "nbformat": 4,
 "nbformat_minor": 5
}
