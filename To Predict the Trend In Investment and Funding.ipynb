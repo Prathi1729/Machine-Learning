{
 "cells": [
  {
   "cell_type": "markdown",
   "id": "77344be8",
   "metadata": {},
   "source": [
    "# Develop A Business Model To Predict the Trend In Investment and Funding."
   ]
  },
  {
   "cell_type": "markdown",
   "id": "066bd9f9",
   "metadata": {},
   "source": [
    "## Importing Libraries :"
   ]
  },
  {
   "cell_type": "code",
   "execution_count": 1,
   "id": "23311bf0",
   "metadata": {},
   "outputs": [],
   "source": [
    "import numpy as np\n",
    "import pandas as pd\n",
    "import matplotlib.pyplot as plt\n",
    "import seaborn as sns\n",
    "import warnings\n",
    "warnings.filterwarnings(\"ignore\")"
   ]
  },
  {
   "cell_type": "markdown",
   "id": "28946c71",
   "metadata": {},
   "source": [
    "## Loading the Dataset"
   ]
  },
  {
   "cell_type": "code",
   "execution_count": 2,
   "id": "39ee4465",
   "metadata": {},
   "outputs": [],
   "source": [
    "df=pd.read_csv(\"nse_stock.csv\")"
   ]
  },
  {
   "cell_type": "markdown",
   "id": "36697aff",
   "metadata": {},
   "source": [
    "#### National Stock Exchange (NSE) Historical Inxdex Data for 10 Months from 1st January to October 2022"
   ]
  },
  {
   "cell_type": "code",
   "execution_count": 3,
   "id": "fe17e9a8",
   "metadata": {},
   "outputs": [
    {
     "data": {
      "text/html": [
       "<div>\n",
       "<style scoped>\n",
       "    .dataframe tbody tr th:only-of-type {\n",
       "        vertical-align: middle;\n",
       "    }\n",
       "\n",
       "    .dataframe tbody tr th {\n",
       "        vertical-align: top;\n",
       "    }\n",
       "\n",
       "    .dataframe thead th {\n",
       "        text-align: right;\n",
       "    }\n",
       "</style>\n",
       "<table border=\"1\" class=\"dataframe\">\n",
       "  <thead>\n",
       "    <tr style=\"text-align: right;\">\n",
       "      <th></th>\n",
       "      <th>Open</th>\n",
       "      <th>High</th>\n",
       "      <th>Low</th>\n",
       "      <th>Close</th>\n",
       "      <th>Shares Traded</th>\n",
       "      <th>Turnover (Rs. Cr)</th>\n",
       "      <th>Return</th>\n",
       "    </tr>\n",
       "  </thead>\n",
       "  <tbody>\n",
       "    <tr>\n",
       "      <th>0</th>\n",
       "      <td>17681.40</td>\n",
       "      <td>17827.60</td>\n",
       "      <td>17593.55</td>\n",
       "      <td>17805.25</td>\n",
       "      <td>247437472</td>\n",
       "      <td>18604.16</td>\n",
       "      <td>1.692342</td>\n",
       "    </tr>\n",
       "    <tr>\n",
       "      <th>1</th>\n",
       "      <td>17820.10</td>\n",
       "      <td>17944.70</td>\n",
       "      <td>17748.85</td>\n",
       "      <td>17925.25</td>\n",
       "      <td>251460038</td>\n",
       "      <td>23737.31</td>\n",
       "      <td>0.784440</td>\n",
       "    </tr>\n",
       "    <tr>\n",
       "      <th>2</th>\n",
       "      <td>17768.50</td>\n",
       "      <td>17797.95</td>\n",
       "      <td>17655.55</td>\n",
       "      <td>17745.90</td>\n",
       "      <td>236454824</td>\n",
       "      <td>22643.82</td>\n",
       "      <td>-0.289561</td>\n",
       "    </tr>\n",
       "    <tr>\n",
       "      <th>3</th>\n",
       "      <td>17797.60</td>\n",
       "      <td>17905.00</td>\n",
       "      <td>17704.55</td>\n",
       "      <td>17812.70</td>\n",
       "      <td>239338015</td>\n",
       "      <td>21447.89</td>\n",
       "      <td>0.163773</td>\n",
       "    </tr>\n",
       "    <tr>\n",
       "      <th>4</th>\n",
       "      <td>17913.30</td>\n",
       "      <td>18017.45</td>\n",
       "      <td>17879.15</td>\n",
       "      <td>18003.30</td>\n",
       "      <td>232418075</td>\n",
       "      <td>20853.64</td>\n",
       "      <td>0.650088</td>\n",
       "    </tr>\n",
       "    <tr>\n",
       "      <th>...</th>\n",
       "      <td>...</td>\n",
       "      <td>...</td>\n",
       "      <td>...</td>\n",
       "      <td>...</td>\n",
       "      <td>...</td>\n",
       "      <td>...</td>\n",
       "      <td>...</td>\n",
       "    </tr>\n",
       "    <tr>\n",
       "      <th>180</th>\n",
       "      <td>17156.30</td>\n",
       "      <td>17196.40</td>\n",
       "      <td>16978.30</td>\n",
       "      <td>17016.30</td>\n",
       "      <td>492002942</td>\n",
       "      <td>27533.01</td>\n",
       "      <td>-2.486949</td>\n",
       "    </tr>\n",
       "    <tr>\n",
       "      <th>181</th>\n",
       "      <td>17110.90</td>\n",
       "      <td>17176.45</td>\n",
       "      <td>16942.35</td>\n",
       "      <td>17007.40</td>\n",
       "      <td>359895458</td>\n",
       "      <td>22712.80</td>\n",
       "      <td>-0.264626</td>\n",
       "    </tr>\n",
       "    <tr>\n",
       "      <th>182</th>\n",
       "      <td>16870.55</td>\n",
       "      <td>17037.60</td>\n",
       "      <td>16820.40</td>\n",
       "      <td>16858.60</td>\n",
       "      <td>323922457</td>\n",
       "      <td>21400.93</td>\n",
       "      <td>-1.404660</td>\n",
       "    </tr>\n",
       "    <tr>\n",
       "      <th>183</th>\n",
       "      <td>16993.60</td>\n",
       "      <td>17026.05</td>\n",
       "      <td>16788.60</td>\n",
       "      <td>16818.10</td>\n",
       "      <td>340034380</td>\n",
       "      <td>24758.63</td>\n",
       "      <td>0.729378</td>\n",
       "    </tr>\n",
       "    <tr>\n",
       "      <th>184</th>\n",
       "      <td>16798.05</td>\n",
       "      <td>17187.10</td>\n",
       "      <td>16747.70</td>\n",
       "      <td>17094.35</td>\n",
       "      <td>380204763</td>\n",
       "      <td>26205.63</td>\n",
       "      <td>-1.150727</td>\n",
       "    </tr>\n",
       "  </tbody>\n",
       "</table>\n",
       "<p>185 rows × 7 columns</p>\n",
       "</div>"
      ],
      "text/plain": [
       "         Open      High       Low     Close  Shares Traded  Turnover (Rs. Cr)  \\\n",
       "0    17681.40  17827.60  17593.55  17805.25      247437472           18604.16   \n",
       "1    17820.10  17944.70  17748.85  17925.25      251460038           23737.31   \n",
       "2    17768.50  17797.95  17655.55  17745.90      236454824           22643.82   \n",
       "3    17797.60  17905.00  17704.55  17812.70      239338015           21447.89   \n",
       "4    17913.30  18017.45  17879.15  18003.30      232418075           20853.64   \n",
       "..        ...       ...       ...       ...            ...                ...   \n",
       "180  17156.30  17196.40  16978.30  17016.30      492002942           27533.01   \n",
       "181  17110.90  17176.45  16942.35  17007.40      359895458           22712.80   \n",
       "182  16870.55  17037.60  16820.40  16858.60      323922457           21400.93   \n",
       "183  16993.60  17026.05  16788.60  16818.10      340034380           24758.63   \n",
       "184  16798.05  17187.10  16747.70  17094.35      380204763           26205.63   \n",
       "\n",
       "       Return  \n",
       "0    1.692342  \n",
       "1    0.784440  \n",
       "2   -0.289561  \n",
       "3    0.163773  \n",
       "4    0.650088  \n",
       "..        ...  \n",
       "180 -2.486949  \n",
       "181 -0.264626  \n",
       "182 -1.404660  \n",
       "183  0.729378  \n",
       "184 -1.150727  \n",
       "\n",
       "[185 rows x 7 columns]"
      ]
     },
     "execution_count": 3,
     "metadata": {},
     "output_type": "execute_result"
    }
   ],
   "source": [
    "df"
   ]
  },
  {
   "cell_type": "markdown",
   "id": "f417bf17",
   "metadata": {},
   "source": [
    "## Data Analysis :"
   ]
  },
  {
   "cell_type": "markdown",
   "id": "30020360",
   "metadata": {},
   "source": [
    "### Analyzing the Dataset"
   ]
  },
  {
   "cell_type": "code",
   "execution_count": 4,
   "id": "f5a61db2",
   "metadata": {},
   "outputs": [
    {
     "data": {
      "text/html": [
       "<div>\n",
       "<style scoped>\n",
       "    .dataframe tbody tr th:only-of-type {\n",
       "        vertical-align: middle;\n",
       "    }\n",
       "\n",
       "    .dataframe tbody tr th {\n",
       "        vertical-align: top;\n",
       "    }\n",
       "\n",
       "    .dataframe thead th {\n",
       "        text-align: right;\n",
       "    }\n",
       "</style>\n",
       "<table border=\"1\" class=\"dataframe\">\n",
       "  <thead>\n",
       "    <tr style=\"text-align: right;\">\n",
       "      <th></th>\n",
       "      <th>Open</th>\n",
       "      <th>High</th>\n",
       "      <th>Low</th>\n",
       "      <th>Close</th>\n",
       "      <th>Shares Traded</th>\n",
       "      <th>Turnover (Rs. Cr)</th>\n",
       "      <th>Return</th>\n",
       "    </tr>\n",
       "  </thead>\n",
       "  <tbody>\n",
       "    <tr>\n",
       "      <th>0</th>\n",
       "      <td>17681.4</td>\n",
       "      <td>17827.60</td>\n",
       "      <td>17593.55</td>\n",
       "      <td>17805.25</td>\n",
       "      <td>247437472</td>\n",
       "      <td>18604.16</td>\n",
       "      <td>1.692342</td>\n",
       "    </tr>\n",
       "    <tr>\n",
       "      <th>1</th>\n",
       "      <td>17820.1</td>\n",
       "      <td>17944.70</td>\n",
       "      <td>17748.85</td>\n",
       "      <td>17925.25</td>\n",
       "      <td>251460038</td>\n",
       "      <td>23737.31</td>\n",
       "      <td>0.784440</td>\n",
       "    </tr>\n",
       "    <tr>\n",
       "      <th>2</th>\n",
       "      <td>17768.5</td>\n",
       "      <td>17797.95</td>\n",
       "      <td>17655.55</td>\n",
       "      <td>17745.90</td>\n",
       "      <td>236454824</td>\n",
       "      <td>22643.82</td>\n",
       "      <td>-0.289561</td>\n",
       "    </tr>\n",
       "    <tr>\n",
       "      <th>3</th>\n",
       "      <td>17797.6</td>\n",
       "      <td>17905.00</td>\n",
       "      <td>17704.55</td>\n",
       "      <td>17812.70</td>\n",
       "      <td>239338015</td>\n",
       "      <td>21447.89</td>\n",
       "      <td>0.163773</td>\n",
       "    </tr>\n",
       "    <tr>\n",
       "      <th>4</th>\n",
       "      <td>17913.3</td>\n",
       "      <td>18017.45</td>\n",
       "      <td>17879.15</td>\n",
       "      <td>18003.30</td>\n",
       "      <td>232418075</td>\n",
       "      <td>20853.64</td>\n",
       "      <td>0.650088</td>\n",
       "    </tr>\n",
       "  </tbody>\n",
       "</table>\n",
       "</div>"
      ],
      "text/plain": [
       "      Open      High       Low     Close  Shares Traded  Turnover (Rs. Cr)  \\\n",
       "0  17681.4  17827.60  17593.55  17805.25      247437472           18604.16   \n",
       "1  17820.1  17944.70  17748.85  17925.25      251460038           23737.31   \n",
       "2  17768.5  17797.95  17655.55  17745.90      236454824           22643.82   \n",
       "3  17797.6  17905.00  17704.55  17812.70      239338015           21447.89   \n",
       "4  17913.3  18017.45  17879.15  18003.30      232418075           20853.64   \n",
       "\n",
       "     Return  \n",
       "0  1.692342  \n",
       "1  0.784440  \n",
       "2 -0.289561  \n",
       "3  0.163773  \n",
       "4  0.650088  "
      ]
     },
     "execution_count": 4,
     "metadata": {},
     "output_type": "execute_result"
    }
   ],
   "source": [
    "df.head()"
   ]
  },
  {
   "cell_type": "code",
   "execution_count": 5,
   "id": "4ca0f348",
   "metadata": {},
   "outputs": [
    {
     "data": {
      "text/html": [
       "<div>\n",
       "<style scoped>\n",
       "    .dataframe tbody tr th:only-of-type {\n",
       "        vertical-align: middle;\n",
       "    }\n",
       "\n",
       "    .dataframe tbody tr th {\n",
       "        vertical-align: top;\n",
       "    }\n",
       "\n",
       "    .dataframe thead th {\n",
       "        text-align: right;\n",
       "    }\n",
       "</style>\n",
       "<table border=\"1\" class=\"dataframe\">\n",
       "  <thead>\n",
       "    <tr style=\"text-align: right;\">\n",
       "      <th></th>\n",
       "      <th>Open</th>\n",
       "      <th>High</th>\n",
       "      <th>Low</th>\n",
       "      <th>Close</th>\n",
       "      <th>Shares Traded</th>\n",
       "      <th>Turnover (Rs. Cr)</th>\n",
       "      <th>Return</th>\n",
       "    </tr>\n",
       "  </thead>\n",
       "  <tbody>\n",
       "    <tr>\n",
       "      <th>180</th>\n",
       "      <td>17156.30</td>\n",
       "      <td>17196.40</td>\n",
       "      <td>16978.30</td>\n",
       "      <td>17016.30</td>\n",
       "      <td>492002942</td>\n",
       "      <td>27533.01</td>\n",
       "      <td>-2.486949</td>\n",
       "    </tr>\n",
       "    <tr>\n",
       "      <th>181</th>\n",
       "      <td>17110.90</td>\n",
       "      <td>17176.45</td>\n",
       "      <td>16942.35</td>\n",
       "      <td>17007.40</td>\n",
       "      <td>359895458</td>\n",
       "      <td>22712.80</td>\n",
       "      <td>-0.264626</td>\n",
       "    </tr>\n",
       "    <tr>\n",
       "      <th>182</th>\n",
       "      <td>16870.55</td>\n",
       "      <td>17037.60</td>\n",
       "      <td>16820.40</td>\n",
       "      <td>16858.60</td>\n",
       "      <td>323922457</td>\n",
       "      <td>21400.93</td>\n",
       "      <td>-1.404660</td>\n",
       "    </tr>\n",
       "    <tr>\n",
       "      <th>183</th>\n",
       "      <td>16993.60</td>\n",
       "      <td>17026.05</td>\n",
       "      <td>16788.60</td>\n",
       "      <td>16818.10</td>\n",
       "      <td>340034380</td>\n",
       "      <td>24758.63</td>\n",
       "      <td>0.729378</td>\n",
       "    </tr>\n",
       "    <tr>\n",
       "      <th>184</th>\n",
       "      <td>16798.05</td>\n",
       "      <td>17187.10</td>\n",
       "      <td>16747.70</td>\n",
       "      <td>17094.35</td>\n",
       "      <td>380204763</td>\n",
       "      <td>26205.63</td>\n",
       "      <td>-1.150727</td>\n",
       "    </tr>\n",
       "  </tbody>\n",
       "</table>\n",
       "</div>"
      ],
      "text/plain": [
       "         Open      High       Low     Close  Shares Traded  Turnover (Rs. Cr)  \\\n",
       "180  17156.30  17196.40  16978.30  17016.30      492002942           27533.01   \n",
       "181  17110.90  17176.45  16942.35  17007.40      359895458           22712.80   \n",
       "182  16870.55  17037.60  16820.40  16858.60      323922457           21400.93   \n",
       "183  16993.60  17026.05  16788.60  16818.10      340034380           24758.63   \n",
       "184  16798.05  17187.10  16747.70  17094.35      380204763           26205.63   \n",
       "\n",
       "       Return  \n",
       "180 -2.486949  \n",
       "181 -0.264626  \n",
       "182 -1.404660  \n",
       "183  0.729378  \n",
       "184 -1.150727  "
      ]
     },
     "execution_count": 5,
     "metadata": {},
     "output_type": "execute_result"
    }
   ],
   "source": [
    "df.tail()"
   ]
  },
  {
   "cell_type": "code",
   "execution_count": 6,
   "id": "b82a3d54",
   "metadata": {},
   "outputs": [
    {
     "data": {
      "text/html": [
       "<div>\n",
       "<style scoped>\n",
       "    .dataframe tbody tr th:only-of-type {\n",
       "        vertical-align: middle;\n",
       "    }\n",
       "\n",
       "    .dataframe tbody tr th {\n",
       "        vertical-align: top;\n",
       "    }\n",
       "\n",
       "    .dataframe thead th {\n",
       "        text-align: right;\n",
       "    }\n",
       "</style>\n",
       "<table border=\"1\" class=\"dataframe\">\n",
       "  <thead>\n",
       "    <tr style=\"text-align: right;\">\n",
       "      <th></th>\n",
       "      <th>Open</th>\n",
       "      <th>High</th>\n",
       "      <th>Low</th>\n",
       "      <th>Close</th>\n",
       "      <th>Shares Traded</th>\n",
       "      <th>Turnover (Rs. Cr)</th>\n",
       "      <th>Return</th>\n",
       "    </tr>\n",
       "  </thead>\n",
       "  <tbody>\n",
       "    <tr>\n",
       "      <th>count</th>\n",
       "      <td>185.000000</td>\n",
       "      <td>185.000000</td>\n",
       "      <td>185.000000</td>\n",
       "      <td>185.000000</td>\n",
       "      <td>1.850000e+02</td>\n",
       "      <td>185.000000</td>\n",
       "      <td>185.000000</td>\n",
       "    </tr>\n",
       "    <tr>\n",
       "      <th>mean</th>\n",
       "      <td>16972.323784</td>\n",
       "      <td>17074.202703</td>\n",
       "      <td>16853.082973</td>\n",
       "      <td>16970.273514</td>\n",
       "      <td>2.949955e+08</td>\n",
       "      <td>23399.181892</td>\n",
       "      <td>-0.010757</td>\n",
       "    </tr>\n",
       "    <tr>\n",
       "      <th>std</th>\n",
       "      <td>743.281043</td>\n",
       "      <td>731.122891</td>\n",
       "      <td>745.411085</td>\n",
       "      <td>741.577704</td>\n",
       "      <td>7.707790e+07</td>\n",
       "      <td>5426.417559</td>\n",
       "      <td>1.256587</td>\n",
       "    </tr>\n",
       "    <tr>\n",
       "      <th>min</th>\n",
       "      <td>15272.650000</td>\n",
       "      <td>15382.500000</td>\n",
       "      <td>15183.400000</td>\n",
       "      <td>15293.500000</td>\n",
       "      <td>1.830112e+08</td>\n",
       "      <td>16042.520000</td>\n",
       "      <td>-3.754689</td>\n",
       "    </tr>\n",
       "    <tr>\n",
       "      <th>25%</th>\n",
       "      <td>16318.150000</td>\n",
       "      <td>16456.000000</td>\n",
       "      <td>16211.200000</td>\n",
       "      <td>16345.350000</td>\n",
       "      <td>2.455149e+08</td>\n",
       "      <td>19875.220000</td>\n",
       "      <td>-0.825562</td>\n",
       "    </tr>\n",
       "    <tr>\n",
       "      <th>50%</th>\n",
       "      <td>17121.300000</td>\n",
       "      <td>17237.750000</td>\n",
       "      <td>17003.900000</td>\n",
       "      <td>17136.550000</td>\n",
       "      <td>2.766627e+08</td>\n",
       "      <td>22007.780000</td>\n",
       "      <td>0.085585</td>\n",
       "    </tr>\n",
       "    <tr>\n",
       "      <th>75%</th>\n",
       "      <td>17584.850000</td>\n",
       "      <td>17667.200000</td>\n",
       "      <td>17467.350000</td>\n",
       "      <td>17560.200000</td>\n",
       "      <td>3.216603e+08</td>\n",
       "      <td>25419.500000</td>\n",
       "      <td>0.812996</td>\n",
       "    </tr>\n",
       "    <tr>\n",
       "      <th>max</th>\n",
       "      <td>18337.200000</td>\n",
       "      <td>18350.950000</td>\n",
       "      <td>18228.750000</td>\n",
       "      <td>18308.100000</td>\n",
       "      <td>6.516136e+08</td>\n",
       "      <td>52929.350000</td>\n",
       "      <td>4.223784</td>\n",
       "    </tr>\n",
       "  </tbody>\n",
       "</table>\n",
       "</div>"
      ],
      "text/plain": [
       "               Open          High           Low         Close  Shares Traded  \\\n",
       "count    185.000000    185.000000    185.000000    185.000000   1.850000e+02   \n",
       "mean   16972.323784  17074.202703  16853.082973  16970.273514   2.949955e+08   \n",
       "std      743.281043    731.122891    745.411085    741.577704   7.707790e+07   \n",
       "min    15272.650000  15382.500000  15183.400000  15293.500000   1.830112e+08   \n",
       "25%    16318.150000  16456.000000  16211.200000  16345.350000   2.455149e+08   \n",
       "50%    17121.300000  17237.750000  17003.900000  17136.550000   2.766627e+08   \n",
       "75%    17584.850000  17667.200000  17467.350000  17560.200000   3.216603e+08   \n",
       "max    18337.200000  18350.950000  18228.750000  18308.100000   6.516136e+08   \n",
       "\n",
       "       Turnover (Rs. Cr)      Return  \n",
       "count         185.000000  185.000000  \n",
       "mean        23399.181892   -0.010757  \n",
       "std          5426.417559    1.256587  \n",
       "min         16042.520000   -3.754689  \n",
       "25%         19875.220000   -0.825562  \n",
       "50%         22007.780000    0.085585  \n",
       "75%         25419.500000    0.812996  \n",
       "max         52929.350000    4.223784  "
      ]
     },
     "execution_count": 6,
     "metadata": {},
     "output_type": "execute_result"
    }
   ],
   "source": [
    "df.describe()"
   ]
  },
  {
   "cell_type": "code",
   "execution_count": 7,
   "id": "65576d14",
   "metadata": {},
   "outputs": [
    {
     "data": {
      "text/plain": [
       "Index(['Open', 'High', 'Low', 'Close', 'Shares Traded', 'Turnover (Rs. Cr)',\n",
       "       'Return'],\n",
       "      dtype='object')"
      ]
     },
     "execution_count": 7,
     "metadata": {},
     "output_type": "execute_result"
    }
   ],
   "source": [
    "df.columns"
   ]
  },
  {
   "cell_type": "code",
   "execution_count": 8,
   "id": "026ff42b",
   "metadata": {},
   "outputs": [
    {
     "data": {
      "text/plain": [
       "Open                 0\n",
       "High                 0\n",
       "Low                  0\n",
       "Close                0\n",
       "Shares Traded        0\n",
       "Turnover (Rs. Cr)    0\n",
       "Return               0\n",
       "dtype: int64"
      ]
     },
     "execution_count": 8,
     "metadata": {},
     "output_type": "execute_result"
    }
   ],
   "source": [
    "df.isnull().sum()"
   ]
  },
  {
   "cell_type": "code",
   "execution_count": 9,
   "id": "3ff9edab",
   "metadata": {},
   "outputs": [
    {
     "name": "stdout",
     "output_type": "stream",
     "text": [
      "<class 'pandas.core.frame.DataFrame'>\n",
      "RangeIndex: 185 entries, 0 to 184\n",
      "Data columns (total 7 columns):\n",
      " #   Column             Non-Null Count  Dtype  \n",
      "---  ------             --------------  -----  \n",
      " 0   Open               185 non-null    float64\n",
      " 1   High               185 non-null    float64\n",
      " 2   Low                185 non-null    float64\n",
      " 3   Close              185 non-null    float64\n",
      " 4   Shares Traded      185 non-null    int64  \n",
      " 5   Turnover (Rs. Cr)  185 non-null    float64\n",
      " 6   Return             185 non-null    float64\n",
      "dtypes: float64(6), int64(1)\n",
      "memory usage: 10.2 KB\n"
     ]
    }
   ],
   "source": [
    "df.info()"
   ]
  },
  {
   "cell_type": "code",
   "execution_count": 10,
   "id": "353a3f26",
   "metadata": {},
   "outputs": [
    {
     "data": {
      "text/plain": [
       "(185, 7)"
      ]
     },
     "execution_count": 10,
     "metadata": {},
     "output_type": "execute_result"
    }
   ],
   "source": [
    "df.shape"
   ]
  },
  {
   "cell_type": "code",
   "execution_count": 11,
   "id": "56c115ae",
   "metadata": {},
   "outputs": [
    {
     "data": {
      "text/plain": [
       "Open                 float64\n",
       "High                 float64\n",
       "Low                  float64\n",
       "Close                float64\n",
       "Shares Traded          int64\n",
       "Turnover (Rs. Cr)    float64\n",
       "Return               float64\n",
       "dtype: object"
      ]
     },
     "execution_count": 11,
     "metadata": {},
     "output_type": "execute_result"
    }
   ],
   "source": [
    "df.dtypes"
   ]
  },
  {
   "cell_type": "markdown",
   "id": "b0423bcc",
   "metadata": {},
   "source": [
    "## Extracting Dependent And Independent Variable"
   ]
  },
  {
   "cell_type": "code",
   "execution_count": 12,
   "id": "dfcfb536",
   "metadata": {},
   "outputs": [],
   "source": [
    "x = df.iloc[:, 0:-1].values # Getting a Copy Of Dataset Excluding Last Column(Target Variable)\n",
    "y = df.iloc[:, -1].values # Getting a Copy of Target Variable as an Array"
   ]
  },
  {
   "cell_type": "code",
   "execution_count": 13,
   "id": "ee64f053",
   "metadata": {},
   "outputs": [
    {
     "data": {
      "text/plain": [
       "array([[1.76814000e+04, 1.78276000e+04, 1.75935500e+04, 1.78052500e+04,\n",
       "        2.47437472e+08, 1.86041600e+04],\n",
       "       [1.78201000e+04, 1.79447000e+04, 1.77488500e+04, 1.79252500e+04,\n",
       "        2.51460038e+08, 2.37373100e+04],\n",
       "       [1.77685000e+04, 1.77979500e+04, 1.76555500e+04, 1.77459000e+04,\n",
       "        2.36454824e+08, 2.26438200e+04],\n",
       "       ...,\n",
       "       [1.68705500e+04, 1.70376000e+04, 1.68204000e+04, 1.68586000e+04,\n",
       "        3.23922457e+08, 2.14009300e+04],\n",
       "       [1.69936000e+04, 1.70260500e+04, 1.67886000e+04, 1.68181000e+04,\n",
       "        3.40034380e+08, 2.47586300e+04],\n",
       "       [1.67980500e+04, 1.71871000e+04, 1.67477000e+04, 1.70943500e+04,\n",
       "        3.80204763e+08, 2.62056300e+04]])"
      ]
     },
     "execution_count": 13,
     "metadata": {},
     "output_type": "execute_result"
    }
   ],
   "source": [
    "x # Independent Variable"
   ]
  },
  {
   "cell_type": "code",
   "execution_count": 14,
   "id": "adadae73",
   "metadata": {},
   "outputs": [
    {
     "data": {
      "text/plain": [
       "array([ 1.69234176,  0.78444015, -0.28956066,  0.16377297,  0.65008765,\n",
       "        0.47143742,  0.95928658,  0.4765993 , -0.39436928,  0.27852626,\n",
       "        0.55687623, -1.13430622, -1.14842354, -1.71474806, -0.21886373,\n",
       "       -3.26369903,  0.35555582,  0.85746102,  0.53898409,  1.32015109,\n",
       "        1.00830317,  0.34761835, -0.99928241, -0.76121931, -1.01080985,\n",
       "        0.52228463,  1.05929154, -0.58732718, -2.14801444, -0.83683969,\n",
       "        2.80631302, -0.06835761, -0.92259672, -0.25411855, -2.00264654,\n",
       "        2.05692681, -3.754689  , -0.2009197 , -0.20616809,  0.67651199,\n",
       "        0.78406084, -2.29471632, -2.88565405, -0.75750176,  2.09712499,\n",
       "        4.22378405, -1.36240758,  0.63464982,  1.60487444, -0.14200637,\n",
       "        1.93314432,  0.73592243, -1.206613  ,  1.66263639, -1.78166681,\n",
       "        1.13513055, -0.61975823,  0.67134796,  0.98831025,  0.29224617,\n",
       "       -0.46977031,  2.13455373,  1.52450152, -1.31549838, -0.66945958,\n",
       "       -0.1419036 ,  0.24155067, -0.87960588,  0.08558504, -2.36620663,\n",
       "        0.43937626, -1.23819815,  1.11086666,  0.04728859, -1.35535225,\n",
       "        0.65994279, -0.28006051,  0.6803    ,  0.81299631, -2.33593491,\n",
       "        1.01716747, -1.41460875, -2.60579362, -1.1443418 ,  0.13064082,\n",
       "        0.13016266, -1.53011208, -0.275262  , -0.82556175,  0.4259992 ,\n",
       "        2.54860928, -2.45585437,  0.79409954,  1.54047046, -0.40144989,\n",
       "       -0.17996308, -0.56401597,  1.18969264,  1.41931446,  0.30584648,\n",
       "        0.09620924, -0.67944608,  1.69885903, -1.37784765, -0.36961532,\n",
       "        0.03248409, -1.28133925,  0.12358697, -2.49570896, -1.28042425,\n",
       "        0.35089398,  0.65483097, -3.53455763,  0.40497229,  0.79200496,\n",
       "        0.58035902, -0.60531403,  1.33222881,  1.71676013, -1.05957479,\n",
       "       -0.3538009 ,  0.46364406, -0.44882564,  0.0433019 ,  1.26444098,\n",
       "       -0.57168359,  1.86841739,  0.99232022, -0.84492416, -0.06166279,\n",
       "        0.01240218, -0.67800498, -0.0502533 ,  0.87815724,  0.2207239 ,\n",
       "        2.32130005, -0.23697684,  0.83335603,  0.00780254, -0.17794395,\n",
       "       -0.94721907,  1.8178673 ,  1.81611162,  0.95845897,  0.388269  ,\n",
       "        0.22587904,  0.65622433, -0.22590491, -0.12712606,  0.94589547,\n",
       "        0.8285846 , -0.29359207,  0.77889426,  0.39865822,  0.17069478,\n",
       "        0.37935822, -1.57876721, -1.84104417,  0.96846581,  0.87615439,\n",
       "       -0.33768878, -2.44419472,  1.31656646,  0.40626014,  0.64452667,\n",
       "       -0.29519729,  0.85059941, -0.99628723,  1.3056954 ,  0.98714514,\n",
       "       -0.18132771,  0.85853942, -1.51459313,  1.54857733, -1.38282811,\n",
       "       -1.43930369,  1.30981463, -0.02279071, -0.88200446, -0.08972353,\n",
       "       -2.48694856, -0.26462582, -1.40466019,  0.72937752, -1.15072733])"
      ]
     },
     "execution_count": 14,
     "metadata": {},
     "output_type": "execute_result"
    }
   ],
   "source": [
    "y # Dependent Variable"
   ]
  },
  {
   "cell_type": "markdown",
   "id": "bdca30ef",
   "metadata": {},
   "source": [
    "## Splitting the Dataset Into Training And Test Set "
   ]
  },
  {
   "cell_type": "code",
   "execution_count": 15,
   "id": "256d44d1",
   "metadata": {},
   "outputs": [],
   "source": [
    "# Importing train_test_split function\n",
    "from sklearn.model_selection import train_test_split"
   ]
  },
  {
   "cell_type": "code",
   "execution_count": 16,
   "id": "34f41ac1",
   "metadata": {},
   "outputs": [],
   "source": [
    "x_train, x_test, y_train, y_test = train_test_split(x, y, test_size = 0.3)"
   ]
  },
  {
   "cell_type": "code",
   "execution_count": 17,
   "id": "abecef2b",
   "metadata": {},
   "outputs": [
    {
     "name": "stdout",
     "output_type": "stream",
     "text": [
      "(129, 6)\n",
      "(56, 6)\n",
      "(129,)\n",
      "(56,)\n"
     ]
    }
   ],
   "source": [
    "print(x_train.shape)\n",
    "print(x_test.shape)\n",
    "print(y_train.shape)\n",
    "print(y_test.shape)"
   ]
  },
  {
   "cell_type": "markdown",
   "id": "dfabc178",
   "metadata": {},
   "source": [
    "## Trends in NSE Stocks Dataset"
   ]
  },
  {
   "cell_type": "markdown",
   "id": "9f37fcb8",
   "metadata": {},
   "source": [
    "## Linear Regression"
   ]
  },
  {
   "cell_type": "code",
   "execution_count": 18,
   "id": "5a5cf297",
   "metadata": {},
   "outputs": [],
   "source": [
    "# Importing LinearRegression function\n",
    "from sklearn.linear_model import LinearRegression"
   ]
  },
  {
   "cell_type": "code",
   "execution_count": 19,
   "id": "d0d97d60",
   "metadata": {},
   "outputs": [],
   "source": [
    "lr=LinearRegression()"
   ]
  },
  {
   "cell_type": "markdown",
   "id": "bf2217be",
   "metadata": {},
   "source": [
    "# Fitting Linear Regression to the Training Set"
   ]
  },
  {
   "cell_type": "code",
   "execution_count": 20,
   "id": "44905e79",
   "metadata": {},
   "outputs": [
    {
     "data": {
      "text/plain": [
       "LinearRegression()"
      ]
     },
     "execution_count": 20,
     "metadata": {},
     "output_type": "execute_result"
    }
   ],
   "source": [
    "lr.fit(x_train,y_train)"
   ]
  },
  {
   "cell_type": "markdown",
   "id": "22ed2e67",
   "metadata": {},
   "source": [
    "# Regression Co-efficient"
   ]
  },
  {
   "cell_type": "code",
   "execution_count": 21,
   "id": "56ffa553",
   "metadata": {},
   "outputs": [
    {
     "name": "stdout",
     "output_type": "stream",
     "text": [
      "[ 2.14075607e-03 -3.68220221e-03  1.71676834e-03  4.29223987e-05\n",
      " -1.08331079e-09  2.22813509e-05]\n"
     ]
    }
   ],
   "source": [
    "print(lr.coef_)"
   ]
  },
  {
   "cell_type": "markdown",
   "id": "f4a1caa9",
   "metadata": {},
   "source": [
    "# Intercept"
   ]
  },
  {
   "cell_type": "code",
   "execution_count": 22,
   "id": "1d51320e",
   "metadata": {},
   "outputs": [
    {
     "name": "stdout",
     "output_type": "stream",
     "text": [
      "-3.3509852899767307\n"
     ]
    }
   ],
   "source": [
    "print(lr.intercept_)"
   ]
  },
  {
   "cell_type": "markdown",
   "id": "bb748cdc",
   "metadata": {},
   "source": [
    "# Predicting the Test Set Result"
   ]
  },
  {
   "cell_type": "code",
   "execution_count": 23,
   "id": "503f07e7",
   "metadata": {},
   "outputs": [],
   "source": [
    "y_pred=lr.predict(x_test)"
   ]
  },
  {
   "cell_type": "code",
   "execution_count": 24,
   "id": "7b3cb6f4",
   "metadata": {},
   "outputs": [
    {
     "data": {
      "text/plain": [
       "array([ 0.46629894,  0.42005698, -0.19221976, -0.38746993, -0.15316676,\n",
       "       -0.02394932, -0.41744696,  0.40327809, -0.15312172, -0.27512883,\n",
       "       -0.51269217, -0.11343403, -0.87070858, -0.03560251, -0.28524197,\n",
       "       -0.07166233,  0.18816096, -0.16550389, -0.04859961, -0.19392806,\n",
       "        0.09357535, -0.02871185,  0.35607098,  0.21673172, -0.3950549 ,\n",
       "       -0.50352131,  0.22052719,  0.25711588, -0.16645063, -0.25582746,\n",
       "        0.22890523, -0.04878644, -0.00202384,  0.0738453 , -0.2448665 ,\n",
       "        0.17558158, -0.02832243, -0.17538821, -0.26796474,  0.09250231,\n",
       "        0.34985286,  0.18115621,  0.11186685, -0.36390652, -0.22932736,\n",
       "        0.33309614,  0.36934971,  0.21803657,  0.40737825, -0.94733652,\n",
       "        0.06238823, -0.56669939,  0.11101807,  0.15814595,  0.17100151,\n",
       "       -0.69354572])"
      ]
     },
     "execution_count": 24,
     "metadata": {},
     "output_type": "execute_result"
    }
   ],
   "source": [
    "y_pred"
   ]
  },
  {
   "cell_type": "markdown",
   "id": "7572f9b1",
   "metadata": {},
   "source": [
    "# Evaluating The Model"
   ]
  },
  {
   "cell_type": "code",
   "execution_count": 25,
   "id": "cda41877",
   "metadata": {},
   "outputs": [],
   "source": [
    "# Importing mean_squared_error, r2_score function from sklearn.metrics module\n",
    "from sklearn.metrics import mean_squared_error, r2_score"
   ]
  },
  {
   "cell_type": "markdown",
   "id": "b90f72bd",
   "metadata": {},
   "source": [
    "# Mean Squared Error (MSE)"
   ]
  },
  {
   "cell_type": "code",
   "execution_count": 29,
   "id": "3ccac3a4",
   "metadata": {},
   "outputs": [
    {
     "name": "stdout",
     "output_type": "stream",
     "text": [
      "Mean_Squared_Error : 0.12245688856242\n"
     ]
    }
   ],
   "source": [
    "mse = mean_squared_error(y_test, y_pred)\n",
    "print('Mean_Squared_Error :' ,mse)"
   ]
  },
  {
   "cell_type": "markdown",
   "id": "1871ae17",
   "metadata": {},
   "source": [
    "# R-squared (R2)"
   ]
  },
  {
   "cell_type": "code",
   "execution_count": 30,
   "id": "5b2623d6",
   "metadata": {},
   "outputs": [
    {
     "name": "stdout",
     "output_type": "stream",
     "text": [
      "r_square_value : 0.923654855969756\n"
     ]
    }
   ],
   "source": [
    "r_squared = r2_score(y_test, y_pred) \n",
    "print('r_square_value :',r_squared)"
   ]
  },
  {
   "cell_type": "markdown",
   "id": "189c1ac2",
   "metadata": {},
   "source": [
    "# Error Rate"
   ]
  },
  {
   "cell_type": "code",
   "execution_count": 31,
   "id": "fa72e2f9",
   "metadata": {
    "scrolled": true
   },
   "outputs": [
    {
     "name": "stdout",
     "output_type": "stream",
     "text": [
      "Error Rate : 0.0812638489886528\n"
     ]
    }
   ],
   "source": [
    "print('Error Rate : ',1-r_squared)"
   ]
  }
 ],
 "metadata": {
  "kernelspec": {
   "display_name": "Python 3 (ipykernel)",
   "language": "python",
   "name": "python3"
  },
  "language_info": {
   "codemirror_mode": {
    "name": "ipython",
    "version": 3
   },
   "file_extension": ".py",
   "mimetype": "text/x-python",
   "name": "python",
   "nbconvert_exporter": "python",
   "pygments_lexer": "ipython3",
   "version": "3.9.12"
  }
 },
 "nbformat": 4,
 "nbformat_minor": 5
}
