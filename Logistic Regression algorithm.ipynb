{
 "cells": [
  {
   "cell_type": "markdown",
   "id": "8a4adba3",
   "metadata": {},
   "source": [
    "Machine Learning for Data Science\n",
    "\n",
    "\n",
    "Name: Prathiban V\n",
    "\n",
    "\n",
    "Question :\n",
    "    Implement logistic regression algorithm and test the algorithm using any data set of your choice from UCI repository. The output should include Accuracy, Error rate, Precision and recall rate along with the confusion matrix."
   ]
  },
  {
   "cell_type": "markdown",
   "id": "957e6d4b",
   "metadata": {},
   "source": [
    "Load Packages"
   ]
  },
  {
   "cell_type": "code",
   "execution_count": 1,
   "id": "fe37731f",
   "metadata": {},
   "outputs": [],
   "source": [
    "import numpy as np\n",
    "import pandas as pd\n",
    "import matplotlib as plt\n",
    "from sklearn.model_selection import train_test_split\n",
    "from sklearn.linear_model import LogisticRegression\n",
    "from sklearn import metrics\n",
    "import warnings\n",
    "warnings.filterwarnings(\"ignore\", message=\"numpy.utype size changed\")\n",
    "\n"
   ]
  },
  {
   "cell_type": "markdown",
   "id": "5a9719b6",
   "metadata": {},
   "source": [
    "Load Dataset - Grading Dataset -\n",
    "Grading dataset contains marks of students in 2 tests and whether they passed the test or not.\n",
    "We apply logistic regression to find whether they passed their test or not"
   ]
  },
  {
   "cell_type": "code",
   "execution_count": 36,
   "id": "0970f51b",
   "metadata": {},
   "outputs": [],
   "source": [
    "dataset=pd.read_csv(\"C:\\\\Users\\\\veniniyan\\\\Downloads\\\\data1.csv\")"
   ]
  },
  {
   "cell_type": "markdown",
   "id": "70cd3f39",
   "metadata": {},
   "source": [
    "Dataset Information"
   ]
  },
  {
   "cell_type": "code",
   "execution_count": 37,
   "id": "86bc509d",
   "metadata": {},
   "outputs": [
    {
     "data": {
      "text/plain": [
       "(100, 3)"
      ]
     },
     "execution_count": 37,
     "metadata": {},
     "output_type": "execute_result"
    }
   ],
   "source": [
    "dataset.shape"
   ]
  },
  {
   "cell_type": "code",
   "execution_count": 38,
   "id": "e803c7c7",
   "metadata": {},
   "outputs": [
    {
     "name": "stdout",
     "output_type": "stream",
     "text": [
      "<class 'pandas.core.frame.DataFrame'>\n",
      "RangeIndex: 100 entries, 0 to 99\n",
      "Data columns (total 3 columns):\n",
      " #   Column  Non-Null Count  Dtype  \n",
      "---  ------  --------------  -----  \n",
      " 0   grade1  100 non-null    float64\n",
      " 1   grade2  100 non-null    float64\n",
      " 2   label   100 non-null    object \n",
      "dtypes: float64(2), object(1)\n",
      "memory usage: 2.0+ KB\n"
     ]
    }
   ],
   "source": [
    "dataset.info()"
   ]
  },
  {
   "cell_type": "code",
   "execution_count": 39,
   "id": "12bb6e07",
   "metadata": {},
   "outputs": [
    {
     "data": {
      "text/html": [
       "<div>\n",
       "<style scoped>\n",
       "    .dataframe tbody tr th:only-of-type {\n",
       "        vertical-align: middle;\n",
       "    }\n",
       "\n",
       "    .dataframe tbody tr th {\n",
       "        vertical-align: top;\n",
       "    }\n",
       "\n",
       "    .dataframe thead th {\n",
       "        text-align: right;\n",
       "    }\n",
       "</style>\n",
       "<table border=\"1\" class=\"dataframe\">\n",
       "  <thead>\n",
       "    <tr style=\"text-align: right;\">\n",
       "      <th></th>\n",
       "      <th>grade1</th>\n",
       "      <th>grade2</th>\n",
       "    </tr>\n",
       "  </thead>\n",
       "  <tbody>\n",
       "    <tr>\n",
       "      <th>count</th>\n",
       "      <td>100.000000</td>\n",
       "      <td>100.000000</td>\n",
       "    </tr>\n",
       "    <tr>\n",
       "      <th>mean</th>\n",
       "      <td>65.984274</td>\n",
       "      <td>66.471998</td>\n",
       "    </tr>\n",
       "    <tr>\n",
       "      <th>std</th>\n",
       "      <td>19.637499</td>\n",
       "      <td>18.694131</td>\n",
       "    </tr>\n",
       "    <tr>\n",
       "      <th>min</th>\n",
       "      <td>30.058822</td>\n",
       "      <td>30.603263</td>\n",
       "    </tr>\n",
       "    <tr>\n",
       "      <th>25%</th>\n",
       "      <td>50.919511</td>\n",
       "      <td>48.736930</td>\n",
       "    </tr>\n",
       "    <tr>\n",
       "      <th>50%</th>\n",
       "      <td>66.653807</td>\n",
       "      <td>67.682381</td>\n",
       "    </tr>\n",
       "    <tr>\n",
       "      <th>75%</th>\n",
       "      <td>80.301370</td>\n",
       "      <td>81.892330</td>\n",
       "    </tr>\n",
       "    <tr>\n",
       "      <th>max</th>\n",
       "      <td>99.827858</td>\n",
       "      <td>98.869436</td>\n",
       "    </tr>\n",
       "  </tbody>\n",
       "</table>\n",
       "</div>"
      ],
      "text/plain": [
       "           grade1      grade2\n",
       "count  100.000000  100.000000\n",
       "mean    65.984274   66.471998\n",
       "std     19.637499   18.694131\n",
       "min     30.058822   30.603263\n",
       "25%     50.919511   48.736930\n",
       "50%     66.653807   67.682381\n",
       "75%     80.301370   81.892330\n",
       "max     99.827858   98.869436"
      ]
     },
     "execution_count": 39,
     "metadata": {},
     "output_type": "execute_result"
    }
   ],
   "source": [
    "dataset.describe()"
   ]
  },
  {
   "cell_type": "code",
   "execution_count": 40,
   "id": "8d6c642b",
   "metadata": {},
   "outputs": [
    {
     "data": {
      "text/plain": [
       "Index(['grade1', 'grade2', 'label'], dtype='object')"
      ]
     },
     "execution_count": 40,
     "metadata": {},
     "output_type": "execute_result"
    }
   ],
   "source": [
    "dataset.columns"
   ]
  },
  {
   "cell_type": "markdown",
   "id": "7b26c795",
   "metadata": {},
   "source": [
    "Check for Null values"
   ]
  },
  {
   "cell_type": "code",
   "execution_count": 41,
   "id": "4f66611d",
   "metadata": {},
   "outputs": [
    {
     "data": {
      "text/plain": [
       "grade1    0\n",
       "grade2    0\n",
       "label     0\n",
       "dtype: int64"
      ]
     },
     "execution_count": 41,
     "metadata": {},
     "output_type": "execute_result"
    }
   ],
   "source": [
    "dataset.isnull().sum()"
   ]
  },
  {
   "cell_type": "markdown",
   "id": "4afeac42",
   "metadata": {},
   "source": [
    "Display Dataset"
   ]
  },
  {
   "cell_type": "code",
   "execution_count": 42,
   "id": "901e9cc7",
   "metadata": {},
   "outputs": [
    {
     "data": {
      "text/html": [
       "<div>\n",
       "<style scoped>\n",
       "    .dataframe tbody tr th:only-of-type {\n",
       "        vertical-align: middle;\n",
       "    }\n",
       "\n",
       "    .dataframe tbody tr th {\n",
       "        vertical-align: top;\n",
       "    }\n",
       "\n",
       "    .dataframe thead th {\n",
       "        text-align: right;\n",
       "    }\n",
       "</style>\n",
       "<table border=\"1\" class=\"dataframe\">\n",
       "  <thead>\n",
       "    <tr style=\"text-align: right;\">\n",
       "      <th></th>\n",
       "      <th>grade1</th>\n",
       "      <th>grade2</th>\n",
       "      <th>label</th>\n",
       "    </tr>\n",
       "  </thead>\n",
       "  <tbody>\n",
       "    <tr>\n",
       "      <th>0</th>\n",
       "      <td>34.623660</td>\n",
       "      <td>78.024693</td>\n",
       "      <td>0;;;;</td>\n",
       "    </tr>\n",
       "    <tr>\n",
       "      <th>1</th>\n",
       "      <td>30.286711</td>\n",
       "      <td>43.894998</td>\n",
       "      <td>0;;;;</td>\n",
       "    </tr>\n",
       "    <tr>\n",
       "      <th>2</th>\n",
       "      <td>35.847409</td>\n",
       "      <td>72.902198</td>\n",
       "      <td>0;;;;</td>\n",
       "    </tr>\n",
       "    <tr>\n",
       "      <th>3</th>\n",
       "      <td>60.182599</td>\n",
       "      <td>86.308552</td>\n",
       "      <td>1;;;;</td>\n",
       "    </tr>\n",
       "    <tr>\n",
       "      <th>4</th>\n",
       "      <td>79.032736</td>\n",
       "      <td>87.344376</td>\n",
       "      <td>1;;;;</td>\n",
       "    </tr>\n",
       "  </tbody>\n",
       "</table>\n",
       "</div>"
      ],
      "text/plain": [
       "      grade1     grade2  label\n",
       "0  34.623660  78.024693  0;;;;\n",
       "1  30.286711  43.894998  0;;;;\n",
       "2  35.847409  72.902198  0;;;;\n",
       "3  60.182599  86.308552  1;;;;\n",
       "4  79.032736  87.344376  1;;;;"
      ]
     },
     "execution_count": 42,
     "metadata": {},
     "output_type": "execute_result"
    }
   ],
   "source": [
    "dataset.head()"
   ]
  },
  {
   "cell_type": "markdown",
   "id": "c38bbf3d",
   "metadata": {},
   "source": [
    "Removing the semicolons present in label column"
   ]
  },
  {
   "cell_type": "code",
   "execution_count": 43,
   "id": "9b651bdc",
   "metadata": {},
   "outputs": [],
   "source": [
    "dataset['label']=dataset['label'].str.replace(';','')"
   ]
  },
  {
   "cell_type": "markdown",
   "id": "eaa1a524",
   "metadata": {},
   "source": [
    "Checking whether the semicolon is removed or not"
   ]
  },
  {
   "cell_type": "code",
   "execution_count": 44,
   "id": "114317e0",
   "metadata": {},
   "outputs": [
    {
     "data": {
      "text/plain": [
       "0    0\n",
       "1    0\n",
       "2    0\n",
       "3    1\n",
       "4    1\n",
       "Name: label, dtype: object"
      ]
     },
     "execution_count": 44,
     "metadata": {},
     "output_type": "execute_result"
    }
   ],
   "source": [
    "dataset['label'].head()"
   ]
  },
  {
   "cell_type": "markdown",
   "id": "e0facee3",
   "metadata": {},
   "source": [
    "Visualization"
   ]
  },
  {
   "cell_type": "code",
   "execution_count": 45,
   "id": "6cc9a195",
   "metadata": {},
   "outputs": [
    {
     "data": {
      "text/plain": [
       "array([[<AxesSubplot:title={'center':'grade1'}>,\n",
       "        <AxesSubplot:title={'center':'grade2'}>]], dtype=object)"
      ]
     },
     "execution_count": 45,
     "metadata": {},
     "output_type": "execute_result"
    },
    {
     "data": {
      "image/png": "[encoded data removed]",
      "text/plain": [
       "<Figure size 432x288 with 2 Axes>"
      ]
     },
     "metadata": {
      "needs_background": "light"
     },
     "output_type": "display_data"
    }
   ],
   "source": [
    "dataset.hist()"
   ]
  },
  {
   "cell_type": "code",
   "execution_count": 46,
   "id": "6388eb9e",
   "metadata": {},
   "outputs": [],
   "source": [
    "cols=['grade1','grade2']\n",
    "X=dataset[cols]\n",
    "y=dataset.label"
   ]
  },
  {
   "cell_type": "markdown",
   "id": "b25cb441",
   "metadata": {},
   "source": [
    "Training and Testing Dataset"
   ]
  },
  {
   "cell_type": "code",
   "execution_count": 47,
   "id": "902b7c9d",
   "metadata": {},
   "outputs": [
    {
     "data": {
      "text/plain": [
       "LogisticRegression()"
      ]
     },
     "execution_count": 47,
     "metadata": {},
     "output_type": "execute_result"
    }
   ],
   "source": [
    "X_train,X_test,y_train,y_test=train_test_split(X,y,random_state=42)\n",
    "regression=LogisticRegression()\n",
    "regression.fit(X_train,y_train)"
   ]
  },
  {
   "cell_type": "code",
   "execution_count": 48,
   "id": "553a1de7",
   "metadata": {},
   "outputs": [
    {
     "name": "stdout",
     "output_type": "stream",
     "text": [
      "['0' '0' '0' '0' '0' '0' '0' '1' '1' '0' '1' '1' '1' '1' '1' '1' '1' '0'\n",
      " '1' '1' '0' '1' '1' '1' '1']\n"
     ]
    }
   ],
   "source": [
    "prediction=regression.predict(X_test)\n",
    "print(prediction)"
   ]
  },
  {
   "cell_type": "code",
   "execution_count": 49,
   "id": "be0939f2",
   "metadata": {},
   "outputs": [
    {
     "name": "stdout",
     "output_type": "stream",
     "text": [
      "The Accuracy of above model is  88.0 %\n"
     ]
    }
   ],
   "source": [
    "print(\"The Accuracy of above model is \",metrics.accuracy_score(y_test,prediction)*100,\"%\")"
   ]
  },
  {
   "cell_type": "code",
   "execution_count": 50,
   "id": "f0d89dfc",
   "metadata": {},
   "outputs": [],
   "source": [
    "matrix=metrics.confusion_matrix(y_test,prediction)"
   ]
  },
  {
   "cell_type": "code",
   "execution_count": 51,
   "id": "b4431445",
   "metadata": {},
   "outputs": [
    {
     "data": {
      "text/plain": [
       "array([[ 8,  1],\n",
       "       [ 2, 14]], dtype=int64)"
      ]
     },
     "execution_count": 51,
     "metadata": {},
     "output_type": "execute_result"
    }
   ],
   "source": [
    "matrix"
   ]
  },
  {
   "cell_type": "code",
   "execution_count": 52,
   "id": "5d4fb075",
   "metadata": {},
   "outputs": [],
   "source": [
    "TP=matrix[0,0]\n",
    "TN=matrix[1,1]\n",
    "FP=matrix[0,1]\n",
    "FN=matrix[1,0]"
   ]
  },
  {
   "cell_type": "markdown",
   "id": "869aa308",
   "metadata": {},
   "source": [
    "Precision, Recall, Error rate"
   ]
  },
  {
   "cell_type": "code",
   "execution_count": 53,
   "id": "7fddf8d9",
   "metadata": {},
   "outputs": [
    {
     "name": "stdout",
     "output_type": "stream",
     "text": [
      "The precision value is :  0.8888888888888888\n"
     ]
    }
   ],
   "source": [
    "Precision=float(TP/(TP+FP))\n",
    "print(\"The precision value is : \",Precision)"
   ]
  },
  {
   "cell_type": "code",
   "execution_count": 54,
   "id": "21ed9e39",
   "metadata": {},
   "outputs": [
    {
     "name": "stdout",
     "output_type": "stream",
     "text": [
      "The recall is :  0.8\n"
     ]
    }
   ],
   "source": [
    "Recall=float(TP/(TP+FN))\n",
    "print(\"The recall is : \",Recall)"
   ]
  },
  {
   "cell_type": "code",
   "execution_count": 55,
   "id": "1e1fd744",
   "metadata": {},
   "outputs": [
    {
     "name": "stdout",
     "output_type": "stream",
     "text": [
      "The Error Rate is :  0.12\n"
     ]
    }
   ],
   "source": [
    "total=TP+TN+FP+FN\n",
    "Error_rate=float((FP+FN)/(total))\n",
    "print(\"The Error Rate is : \",Error_rate)"
   ]
  },
  {
   "cell_type": "code",
   "execution_count": null,
   "id": "3a5ca792",
   "metadata": {},
   "outputs": [],
   "source": []
  }
 ],
 "metadata": {
  "kernelspec": {
   "display_name": "Python 3",
   "language": "python",
   "name": "python3"
  },
  "language_info": {
   "codemirror_mode": {
    "name": "ipython",
    "version": 3
   },
   "file_extension": ".py",
   "mimetype": "text/x-python",
   "name": "python",
   "nbconvert_exporter": "python",
   "pygments_lexer": "ipython3",
   "version": "3.8.8"
  }
 },
 "nbformat": 4,
 "nbformat_minor": 5
}
